{
 "cells": [
  {
   "cell_type": "markdown",
   "metadata": {},
   "source": [
    "#### Q ) 1.1 Write a Python Program(with class concepts) to find the area of the triangle using the below formula.\n",
    "- area = (s*(s-a)*(s-b)*(s-c)) ** 0.5\n",
    "- Function to take the length of the sides of triangle from user should be defined in the parent class and function to calculate the area should be defined in subclass."
   ]
  },
  {
   "cell_type": "code",
   "execution_count": 1,
   "metadata": {},
   "outputs": [
    {
     "name": "stdout",
     "output_type": "stream",
     "text": [
      "2 3 4\n",
      "\n",
      "\n",
      "Area of your triangle is :  43.474130238568314\n"
     ]
    }
   ],
   "source": [
    "import math\n",
    "class area_of_triangle():\n",
    "    def __init__(self,a,b,c):\n",
    "        self.a = a\n",
    "        self.b = b\n",
    "        self.c = c\n",
    "        \n",
    "    def area(self):\n",
    "        s = a + b + c\n",
    "        area = (s*(s-a)*(s-b)*(s-c)) ** 0.5\n",
    "        return area\n",
    "\n",
    "a,b,c = map(int, input().strip().split(\" \"))\n",
    "s = a + b + c\n",
    "area = (s*(s-a)*(s-b)*(s-c)) ** 0.5\n",
    "print(\"\\n\")\n",
    "print(\"Area of your triangle is : \",area)\n",
    "\n",
    "#r=int(input(\"Enter radius of circle: \"))\n",
    "#obj=circle(r)\n",
    "#print(\"Area of circle:\",round(obj.area(),2))\n",
    "#print(\"Perimeter of circle:\",round(obj.perimeter(),2))"
   ]
  },
  {
   "cell_type": "code",
   "execution_count": 1,
   "metadata": {},
   "outputs": [
    {
     "name": "stdout",
     "output_type": "stream",
     "text": [
      "Enter the first side of the trianle in cms 2\n",
      "Enter the second side of the trianle in cms 3\n",
      "Enter the third side of the trianle in cms 4\n",
      "\n",
      "\n",
      "Area of your triangle is :  43.474130238568314\n"
     ]
    }
   ],
   "source": [
    "a = float(input(\"Enter the first side of the trianle in cms \"))\n",
    "b = float(input(\"Enter the second side of the trianle in cms \"))\n",
    "c = float(input(\"Enter the third side of the trianle in cms \"))\n",
    "s = a + b + c\n",
    "area = (s*(s-a)*(s-b)*(s-c)) ** 0.5\n",
    "print(\"\\n\")\n",
    "print(\"Area of your triangle is : \",area)"
   ]
  },
  {
   "cell_type": "markdown",
   "metadata": {},
   "source": [
    "#### Alternate way"
   ]
  },
  {
   "cell_type": "code",
   "execution_count": 2,
   "metadata": {},
   "outputs": [
    {
     "name": "stdout",
     "output_type": "stream",
     "text": [
      "2 3 4\n",
      "\n",
      "\n",
      "Area of your triangle is :  43.474130238568314\n"
     ]
    }
   ],
   "source": [
    "a,b,c = map(int, input().strip().split(\" \"))\n",
    "s = a + b + c\n",
    "area = (s*(s-a)*(s-b)*(s-c)) ** 0.5\n",
    "print(\"\\n\")\n",
    "print(\"Area of your triangle is : \",area)"
   ]
  },
  {
   "cell_type": "markdown",
   "metadata": {},
   "source": [
    "#### Q 1.2) Write a function filter_long_words() that takes a list of words and an integer n and returns the list of words that are longer than n"
   ]
  },
  {
   "cell_type": "code",
   "execution_count": 3,
   "metadata": {},
   "outputs": [],
   "source": [
    "def filter_long_words(wordlist,num):\n",
    "    list_word = []\n",
    "    for i in range(len(wordlist)):\n",
    "        if len(wordlist[i]) > num:\n",
    "            list_word.append(wordlist[i])\n",
    "    return list_word"
   ]
  },
  {
   "cell_type": "code",
   "execution_count": 4,
   "metadata": {},
   "outputs": [
    {
     "data": {
      "text/plain": [
       "['apple', 'cricket']"
      ]
     },
     "execution_count": 4,
     "metadata": {},
     "output_type": "execute_result"
    }
   ],
   "source": [
    "filter_long_words([\"apple\",\"dog\",\"cricket\"],4)"
   ]
  },
  {
   "cell_type": "code",
   "execution_count": 5,
   "metadata": {},
   "outputs": [
    {
     "data": {
      "text/plain": [
       "['cricket']"
      ]
     },
     "execution_count": 5,
     "metadata": {},
     "output_type": "execute_result"
    }
   ],
   "source": [
    "filter_long_words([\"apple\",\"dog\",\"cricket\"],6)"
   ]
  },
  {
   "cell_type": "markdown",
   "metadata": {},
   "source": [
    "---"
   ]
  },
  {
   "cell_type": "markdown",
   "metadata": {},
   "source": [
    "#### Q) 2.1 Write a Python program using function concept that maps list of words into a list of integers representing the lengths of the corresponding words .\n",
    "- Hint: If a list [ ab,cde,erty] is passed on to the python function output should come as [2,3,4]\n",
    "- Here 2,3 and 4 are the lengths of the words in the list."
   ]
  },
  {
   "cell_type": "code",
   "execution_count": 6,
   "metadata": {},
   "outputs": [],
   "source": [
    "def word_length(lst):              # Defining a udf  \n",
    "    new_list = []                  # Taking an empty list\n",
    "    for i in lst:                  # runing a loop through each elements of the input list\n",
    "        new_list.append(len(i))    # append the len of each elements into the empty list taken before\n",
    "    return (new_list)              # returning the the list which consists of the len of the each elements\n",
    "    \n",
    "    "
   ]
  },
  {
   "cell_type": "code",
   "execution_count": 7,
   "metadata": {},
   "outputs": [
    {
     "data": {
      "text/plain": [
       "[2, 3, 4]"
      ]
     },
     "execution_count": 7,
     "metadata": {},
     "output_type": "execute_result"
    }
   ],
   "source": [
    "word_length([\"ab\",\"cde\",\"erty\"] )   "
   ]
  },
  {
   "cell_type": "code",
   "execution_count": 8,
   "metadata": {},
   "outputs": [
    {
     "data": {
      "text/plain": [
       "[3, 2, 1]"
      ]
     },
     "execution_count": 8,
     "metadata": {},
     "output_type": "execute_result"
    }
   ],
   "source": [
    "word_length([\"abc\",\"bc\",\"c\"])          "
   ]
  },
  {
   "cell_type": "markdown",
   "metadata": {},
   "source": [
    "---"
   ]
  },
  {
   "cell_type": "markdown",
   "metadata": {},
   "source": [
    "#### Q 2.2) Write a Python function which takes a character (i.e. a string of length 1) and returns True if it is a vowel, False otherwise."
   ]
  },
  {
   "cell_type": "code",
   "execution_count": 9,
   "metadata": {},
   "outputs": [],
   "source": [
    "def is_vowel(character):                    # Defining a udf  \n",
    "    vowels = ('a','e','i','o','u')          # Taking all the vowels into a tuple\n",
    "    if character not in vowels:             # writing a if, else condition to check whether the input character is matches?\n",
    "        return False\n",
    "    else:\n",
    "        return True                         # return respectively if matched then True else False"
   ]
  },
  {
   "cell_type": "code",
   "execution_count": 10,
   "metadata": {},
   "outputs": [
    {
     "name": "stdout",
     "output_type": "stream",
     "text": [
      "True\n",
      "True\n",
      "True\n",
      "True\n",
      "True\n",
      "False\n",
      "False\n",
      "False\n",
      "False\n"
     ]
    }
   ],
   "source": [
    "print(is_vowel('a'))                       # Checking the udf\n",
    "print(is_vowel('e'))\n",
    "print(is_vowel('i'))\n",
    "print(is_vowel('o'))\n",
    "print(is_vowel('u'))\n",
    "print(is_vowel('b'))\n",
    "print(is_vowel('d'))\n",
    "print(is_vowel(1))\n",
    "print(is_vowel(100))\n"
   ]
  },
  {
   "cell_type": "markdown",
   "metadata": {},
   "source": [
    "## ---------------------------------------------------------END-------------------------------------------------------------"
   ]
  },
  {
   "cell_type": "code",
   "execution_count": null,
   "metadata": {},
   "outputs": [],
   "source": []
  }
 ],
 "metadata": {
  "kernelspec": {
   "display_name": "Python 3",
   "language": "python",
   "name": "python3"
  },
  "language_info": {
   "codemirror_mode": {
    "name": "ipython",
    "version": 3
   },
   "file_extension": ".py",
   "mimetype": "text/x-python",
   "name": "python",
   "nbconvert_exporter": "python",
   "pygments_lexer": "ipython3",
   "version": "3.7.3"
  }
 },
 "nbformat": 4,
 "nbformat_minor": 2
}
